{
 "cells": [
  {
   "cell_type": "code",
   "execution_count": 1,
   "metadata": {},
   "outputs": [],
   "source": [
    "xs = [100,  50, 34, 16, 58,   52]\n",
    "ys = [199, 100, 68, 32, 116, 105]\n",
    "\n"
   ]
  },
  {
   "cell_type": "code",
   "execution_count": 2,
   "metadata": {},
   "outputs": [
    {
     "name": "stdout",
     "output_type": "stream",
     "text": [
      "[(100, 199), (50, 100), (34, 68), (16, 32), (58, 116), (52, 105)]\n"
     ]
    }
   ],
   "source": [
    "x = 51\n",
    "\n",
    "niz = []\n",
    "for i in range(len(xs)):\n",
    "    xx = xs[i]\n",
    "    yy = ys[i]\n",
    "    niz.append((xx, yy))\n",
    "print(niz)"
   ]
  },
  {
   "cell_type": "code",
   "execution_count": 3,
   "metadata": {},
   "outputs": [
    {
     "name": "stdout",
     "output_type": "stream",
     "text": [
      "[(16, 32), (34, 68), (50, 100), (52, 105), (58, 116), (100, 199)]\n"
     ]
    }
   ],
   "source": [
    "sniz = sorted(niz, key=lambda x: x[0])\n",
    "\n",
    "print(sniz)"
   ]
  },
  {
   "cell_type": "code",
   "execution_count": 4,
   "metadata": {},
   "outputs": [
    {
     "name": "stdout",
     "output_type": "stream",
     "text": [
      "Visina objekta cija senka je 51 iznosi 103.16666666666667\n"
     ]
    }
   ],
   "source": [
    "# pronadji najblizi\n",
    "n = len(sniz)\n",
    "\n",
    "for i in range(n-1):\n",
    "    x0 = sniz[i][0]\n",
    "    x1 = sniz[i+1][0]\n",
    "    if x0>=x and x<=x1:\n",
    "        y0 = sniz[i][1]\n",
    "        y1 = sniz[i+1][1]\n",
    "        dx = x1-x0\n",
    "        dy = y1-y0\n",
    "        y = y0+(x-x0)*dy/dx\n",
    "        print(f'Visina objekta cija senka je {x} iznosi {y}')\n",
    "        break"
   ]
  },
  {
   "cell_type": "code",
   "execution_count": 5,
   "metadata": {},
   "outputs": [],
   "source": [
    "def prvi_metod(xs, ys, x):\n",
    "    niz = []\n",
    "    for i in range(len(xs)):\n",
    "        xx = xs[i]\n",
    "        yy = ys[i]\n",
    "        niz.append((xx, yy))\n",
    "    sniz = sorted(niz, key=lambda x: x[0])\n",
    "    n = len(sniz)\n",
    "    for i in range(n-1):\n",
    "        x0 = sniz[i][0]\n",
    "        x1 = sniz[i+1][0]\n",
    "        if x0>=x and x<=x1:\n",
    "            y0 = sniz[i][1]\n",
    "            y1 = sniz[i+1][1]\n",
    "            dx = x1-x0\n",
    "            dy = y1-y0\n",
    "            y = y0+(x-x0)*dy/dx\n",
    "            return y\n",
    "    return None"
   ]
  },
  {
   "cell_type": "code",
   "execution_count": 6,
   "metadata": {},
   "outputs": [
    {
     "name": "stdout",
     "output_type": "stream",
     "text": [
      "Visina objekta cija senka je 51 iznosi 103.16666666666667\n"
     ]
    }
   ],
   "source": [
    "x = 51\n",
    "y = prvi_metod(xs, ys, x)\n",
    "print(f'Visina objekta cija senka je {x} iznosi {y}')"
   ]
  },
  {
   "cell_type": "code",
   "execution_count": 7,
   "metadata": {},
   "outputs": [
    {
     "name": "stdout",
     "output_type": "stream",
     "text": [
      "Ako je x=0.15 y=4.300000000000001 tacna vrednost=[4.3]\n"
     ]
    }
   ],
   "source": [
    "import numpy as np\n",
    "\n",
    "def f1(x):\n",
    "    x = np.array(x)\n",
    "    return 2*x+4\n",
    "\n",
    "xs = [0, 0.1, 0.2, 0.3, 0.4]\n",
    "ys = f1(xs)\n",
    "\n",
    "\n",
    "x = 0.15\n",
    "y = prvi_metod(xs, ys, x)\n",
    "yt = f1([x])\n",
    "print(f'Ako je x={x} y={y} tacna vrednost={yt}')\n",
    "\n",
    "\n"
   ]
  },
  {
   "cell_type": "code",
   "execution_count": 8,
   "metadata": {},
   "outputs": [
    {
     "name": "stdout",
     "output_type": "stream",
     "text": [
      "a=1.9999999999999993 b=4.0\n",
      "Ako je x=0.15 y=4.3 tacna vrednost=[4.3]\n"
     ]
    }
   ],
   "source": [
    "\n",
    "def drugi_metod(xs, ys, x):\n",
    "    n = len(xs)\n",
    "\n",
    "    aa = []\n",
    "    bb = []\n",
    "\n",
    "    for it in range(50):\n",
    "        i = np.random.randint(0, n)\n",
    "        j = np.random.randint(0, n)\n",
    "        if i != j:\n",
    "            xi = xs[i]\n",
    "            yi = ys[i]\n",
    "            xj = xs[j]\n",
    "            yj = ys[j]\n",
    "            dx = xj-xi\n",
    "            dy = yj-yi\n",
    "            a = dy/dx\n",
    "            b = yi-a*xi\n",
    "            aa.append(a)\n",
    "            bb.append(b)\n",
    "    aa = np.array(aa)\n",
    "    bb = np.array(bb)\n",
    "\n",
    "    a = aa.mean()\n",
    "    b = bb.mean()\n",
    "    print(f'a={a} b={b}')\n",
    "    return a*x+b\n",
    "\n",
    "x = 0.15\n",
    "y = drugi_metod(xs, ys, x)\n",
    "yt = f1([x])\n",
    "print(f'Ako je x={x} y={y} tacna vrednost={yt}')\n",
    "        \n"
   ]
  },
  {
   "cell_type": "code",
   "execution_count": null,
   "metadata": {},
   "outputs": [],
   "source": [
    "def treci_metod(xs, ys, x):\n",
    "    n = len(xs)\n",
    "    a = 0\n",
    "    b = 0\n",
    "\n",
    "    for it in range(100):\n",
    "        "
   ]
  }
 ],
 "metadata": {
  "kernelspec": {
   "display_name": "Python 3",
   "language": "python",
   "name": "python3"
  },
  "language_info": {
   "codemirror_mode": {
    "name": "ipython",
    "version": 3
   },
   "file_extension": ".py",
   "mimetype": "text/x-python",
   "name": "python",
   "nbconvert_exporter": "python",
   "pygments_lexer": "ipython3",
   "version": "3.9.6"
  }
 },
 "nbformat": 4,
 "nbformat_minor": 2
}
