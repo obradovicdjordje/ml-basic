{
 "cells": [
  {
   "cell_type": "code",
   "execution_count": 1,
   "metadata": {},
   "outputs": [
    {
     "name": "stdout",
     "output_type": "stream",
     "text": [
      "[-3.824402922540815, 2.9014575547315227, 4.917588089484379] 0\n",
      "Klasa za 1 je -1 PAS=1  MACKA=-1\n",
      "Klasa za 2 je 1\n"
     ]
    }
   ],
   "source": [
    "import numpy as np\n",
    "import matplotlib.pyplot as plt\n",
    "import random\n",
    "\n",
    "PAS = 1\n",
    "MACKA = -1\n",
    "\n",
    "data = [\n",
    "    [3, 7, PAS],\n",
    "    [17, 3, MACKA],\n",
    "    [15, 5, MACKA],\n",
    "    [3, 3, PAS],\n",
    "    [15, 3, MACKA],\n",
    "    [3, 5, PAS]\n",
    "]"
   ]
  },
  {
   "cell_type": "code",
   "execution_count": null,
   "metadata": {},
   "outputs": [],
   "source": [
    "def model(w, x):\n",
    "\n",
    "    y = w[0]*x[0]+w[1]*x[1]+w[2]\n",
    "    if y<0:\n",
    "        return MACKA\n",
    "    if y>0:\n",
    "        return PAS\n",
    "    return 0\n",
    "\n",
    "def loss(data, model, w):\n",
    "    err = 0\n",
    "    n = len(data)\n",
    "    for i in range(n):\n",
    "        x = data[i][:2]\n",
    "        izracunato = model(w, x)\n",
    "        ocekivano = data[i][2]\n",
    "        err += abs(izracunato-ocekivano)\n",
    "    return err\n",
    "\n",
    "def fit(data, model, loss):\n",
    "    # pronaci w tako da loss bude najmanji\n",
    "    w_best = None\n",
    "    loss_best = None\n",
    "    for it in range(10000000):\n",
    "        w = [\n",
    "            10*random.random()-5, # w0\n",
    "            10*random.random()-5, # w1\n",
    "            10*random.random()-5  # w2\n",
    "        ]\n",
    "        err = loss(data, model, w)\n",
    "        if err==0:\n",
    "            return w, err\n",
    "        if loss_best==None or loss_best>err:\n",
    "            w_best = w\n",
    "            loss_best = err\n",
    "    return w_best, loss_best\n",
    "\n",
    "w, err = fit(data, model, loss)\n",
    "\n",
    "print(w, err)\n",
    "\n",
    "p1 = [17, 5]\n",
    "p2 = [3, 6.5]\n",
    "\n",
    "print(f'Klasa za 1 je {model(w, p1)} PAS={PAS}  MACKA={MACKA}')\n",
    "print(f'Klasa za 2 je {model(w, p2)}')"
   ]
  }
 ],
 "metadata": {
  "kernelspec": {
   "display_name": "Python 3",
   "language": "python",
   "name": "python3"
  },
  "language_info": {
   "codemirror_mode": {
    "name": "ipython",
    "version": 3
   },
   "file_extension": ".py",
   "mimetype": "text/x-python",
   "name": "python",
   "nbconvert_exporter": "python",
   "pygments_lexer": "ipython3",
   "version": "3.10.12"
  }
 },
 "nbformat": 4,
 "nbformat_minor": 2
}
