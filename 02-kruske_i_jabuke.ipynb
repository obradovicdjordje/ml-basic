{
 "cells": [
  {
   "cell_type": "code",
   "execution_count": 40,
   "metadata": {},
   "outputs": [],
   "source": [
    "import numpy as np\n",
    "import matplotlib.pyplot as plt\n",
    "\n",
    "primeri = [\n",
    "    [1, 1, 'kruska'],\n",
    "    [1.5, 1.5, 'kruska'],\n",
    "    [6, 7, 'jabuka'],\n",
    "    [10, 10, 'jabuka'],\n",
    "    [2, 2, 'kruska'],\n",
    "    [2, 1, 'kruska'],\n",
    "    [1, 2, 'kruska'],\n",
    "    [9,9, 'jabuka'],\n",
    "]\n",
    "nepoznati = [\n",
    "    [7, 8],\n",
    "    [1.8, 1.8]\n",
    "]\n"
   ]
  },
  {
   "cell_type": "code",
   "execution_count": 41,
   "metadata": {},
   "outputs": [
    {
     "data": {
      "image/png": "[encoded data removed]",
      "text/plain": [
       "<Figure size 640x480 with 1 Axes>"
      ]
     },
     "metadata": {},
     "output_type": "display_data"
    }
   ],
   "source": [
    "jabuke = np.array([x[:2] for x in primeri if x[2]=='jabuka'])\n",
    "kruske = np.array([x[:2] for x in primeri if x[2]=='kruska'])\n",
    "nepoznati = np.array(nepoznati)\n",
    "\n",
    "\n",
    "fig, ax = plt.subplots()\n",
    "ax.scatter(jabuke[:,0], jabuke[:,1], c='r')\n",
    "ax.scatter(kruske[:,0], kruske[:,1], c='b')\n",
    "ax.scatter(nepoznati[:,0], nepoznati[:,1], c='g')\n",
    "plt.show()"
   ]
  },
  {
   "cell_type": "code",
   "execution_count": 42,
   "metadata": {},
   "outputs": [
    {
     "name": "stdout",
     "output_type": "stream",
     "text": [
      "[[ 1.   1.   1. ]\n",
      " [ 1.5  1.5  1. ]\n",
      " [ 6.   7.  -1. ]\n",
      " [10.  10.  -1. ]\n",
      " [ 2.   2.   1. ]\n",
      " [ 2.   1.   1. ]\n",
      " [ 1.   2.   1. ]\n",
      " [ 9.   9.  -1. ]]\n"
     ]
    }
   ],
   "source": [
    "primeri = np.array([[x[0], x[1], 1 if x[2]=='kruska' else -1] for x in primeri])\n",
    "\n",
    "print(primeri)"
   ]
  },
  {
   "cell_type": "code",
   "execution_count": 43,
   "metadata": {},
   "outputs": [
    {
     "name": "stdout",
     "output_type": "stream",
     "text": [
      "[7. 8.]\n",
      "p: jabuka\n",
      "p: jabuka\n",
      "[1.8 1.8]\n",
      "p: kruska\n",
      "p: kruska\n"
     ]
    }
   ],
   "source": [
    "def rastojanje(a, b):\n",
    "    return np.linalg.norm(a-b)\n",
    "\n",
    "for p in nepoznati:\n",
    "    rastojanja = np.zeros(primeri.shape[0])\n",
    "    i = 0\n",
    "    for primer in primeri:\n",
    "        d = rastojanje(primer[:2], p)\n",
    "        rastojanja[i] = d\n",
    "        i += 1\n",
    "     \n",
    "    sr = np.argsort(rastojanja)\n",
    "    print(p)\n",
    "    for s in sr[:2]:\n",
    "        r = primeri[s, 2]\n",
    "        print(f'p: {\"kruska\" if r==1 else \"jabuka\"}')\n",
    "    "
   ]
  }
 ],
 "metadata": {
  "kernelspec": {
   "display_name": "Python 3",
   "language": "python",
   "name": "python3"
  },
  "language_info": {
   "codemirror_mode": {
    "name": "ipython",
    "version": 3
   },
   "file_extension": ".py",
   "mimetype": "text/x-python",
   "name": "python",
   "nbconvert_exporter": "python",
   "pygments_lexer": "ipython3",
   "version": "3.10.12"
  }
 },
 "nbformat": 4,
 "nbformat_minor": 2
}
