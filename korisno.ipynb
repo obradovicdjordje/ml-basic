{
 "cells": [
  {
   "cell_type": "code",
   "execution_count": 7,
   "metadata": {},
   "outputs": [
    {
     "name": "stdout",
     "output_type": "stream",
     "text": [
      "Defaulting to user installation because normal site-packages is not writeable\n",
      "Requirement already satisfied: numpy in /usr/lib/python3/dist-packages (1.21.5)\n",
      "Defaulting to user installation because normal site-packages is not writeable\n",
      "Requirement already satisfied: matplotlib in /home/djordje/.local/lib/python3.10/site-packages (3.8.2)\n",
      "Requirement already satisfied: pillow>=8 in /usr/lib/python3/dist-packages (from matplotlib) (9.0.1)\n",
      "Requirement already satisfied: pyparsing>=2.3.1 in /usr/lib/python3/dist-packages (from matplotlib) (2.4.7)\n",
      "Requirement already satisfied: packaging>=20.0 in /home/djordje/.local/lib/python3.10/site-packages (from matplotlib) (23.2)\n",
      "Requirement already satisfied: contourpy>=1.0.1 in /home/djordje/.local/lib/python3.10/site-packages (from matplotlib) (1.2.0)\n",
      "Requirement already satisfied: kiwisolver>=1.3.1 in /home/djordje/.local/lib/python3.10/site-packages (from matplotlib) (1.4.5)\n",
      "Requirement already satisfied: cycler>=0.10 in /home/djordje/.local/lib/python3.10/site-packages (from matplotlib) (0.12.1)\n",
      "Requirement already satisfied: python-dateutil>=2.7 in /home/djordje/.local/lib/python3.10/site-packages (from matplotlib) (2.8.2)\n",
      "Requirement already satisfied: numpy<2,>=1.21 in /usr/lib/python3/dist-packages (from matplotlib) (1.21.5)\n",
      "Requirement already satisfied: fonttools>=4.22.0 in /home/djordje/.local/lib/python3.10/site-packages (from matplotlib) (4.47.2)\n",
      "Requirement already satisfied: six>=1.5 in /usr/lib/python3/dist-packages (from python-dateutil>=2.7->matplotlib) (1.16.0)\n"
     ]
    }
   ],
   "source": [
    "!pip install numpy\n",
    "!pip install matplotlib\n"
   ]
  },
  {
   "cell_type": "code",
   "execution_count": 8,
   "metadata": {},
   "outputs": [
    {
     "data": {
      "image/png": "[encoded data removed]",
      "text/plain": [
       "<Figure size 640x480 with 1 Axes>"
      ]
     },
     "metadata": {},
     "output_type": "display_data"
    }
   ],
   "source": [
    "import matplotlib.pyplot as plt\n",
    "import numpy as np\n",
    "\n",
    "x = np.linspace(0, 2 * np.pi, 50)\n",
    "y = np.sin(x)\n",
    "\n",
    "fig, ax = plt.subplots()\n",
    "ax.scatter(x, y)\n",
    "plt.show()"
   ]
  },
  {
   "cell_type": "code",
   "execution_count": 33,
   "metadata": {},
   "outputs": [
    {
     "data": {
      "image/png": "[encoded data removed]",
      "text/plain": [
       "<Figure size 640x480 with 1 Axes>"
      ]
     },
     "metadata": {},
     "output_type": "display_data"
    },
    {
     "name": "stdout",
     "output_type": "stream",
     "text": [
      "[[ 1.   1.   1. ]\n",
      " [ 1.5  1.5  1. ]\n",
      " [ 6.   7.  -1. ]\n",
      " [10.  10.  -1. ]\n",
      " [ 2.   2.   1. ]\n",
      " [ 2.   1.   1. ]\n",
      " [ 1.   2.   1. ]\n",
      " [ 9.   9.  -1. ]]\n",
      "[7. 8.]\n",
      "p: jabuka\n",
      "p: jabuka\n",
      "[1.8 1.8]\n",
      "p: kruska\n",
      "p: kruska\n"
     ]
    }
   ],
   "source": [
    "import numpy as np\n",
    "import matplotlib.pyplot as plt\n",
    "\n",
    "primeri = [\n",
    "    [1, 1, 'kruska'],\n",
    "    [1.5, 1.5, 'kruska'],\n",
    "    [6, 7, 'jabuka'],\n",
    "    [10, 10, 'jabuka'],\n",
    "    [2, 2, 'kruska'],\n",
    "    [2, 1, 'kruska'],\n",
    "    [1, 2, 'kruska'],\n",
    "    [9,9, 'jabuka'],\n",
    "]\n",
    "nepoznati = [\n",
    "    [7, 8],\n",
    "    [1.8, 1.8]\n",
    "]\n",
    "\n",
    "jabuke = np.array([x[:2] for x in primeri if x[2]=='jabuka'])\n",
    "kruske = np.array([x[:2] for x in primeri if x[2]=='kruska'])\n",
    "nepoznati = np.array(nepoznati)\n",
    "\n",
    "\n",
    "fig, ax = plt.subplots()\n",
    "ax.scatter(jabuke[:,0], jabuke[:,1], c='r')\n",
    "ax.scatter(kruske[:,0], kruske[:,1], c='b')\n",
    "ax.scatter(nepoznati[:,0], nepoznati[:,1], c='g')\n",
    "plt.show()\n",
    "\n",
    "\n",
    "primeri = np.array([[x[0], x[1], 1 if x[2]=='kruska' else -1] for x in primeri])\n",
    "\n",
    "print(primeri)\n",
    "\n",
    "def rastojanje(a, b):\n",
    "    return np.linalg.norm(a-b)\n",
    "\n",
    "for p in nepoznati:\n",
    "    rastojanja = np.zeros(primeri.shape[0])\n",
    "    i = 0\n",
    "    for primer in primeri:\n",
    "        d = rastojanje(primer[:2], p)\n",
    "        rastojanja[i] = d\n",
    "        i += 1\n",
    "     \n",
    "    sr = np.argsort(rastojanja)\n",
    "    print(p)\n",
    "    for s in sr[:2]:\n",
    "        r = primeri[s, 2]\n",
    "        print(f'p: {\"kruska\" if r==1 else \"jabuka\"}')"
   ]
  }
 ],
 "metadata": {
  "kernelspec": {
   "display_name": "Python 3",
   "language": "python",
   "name": "python3"
  },
  "language_info": {
   "codemirror_mode": {
    "name": "ipython",
    "version": 3
   },
   "file_extension": ".py",
   "mimetype": "text/x-python",
   "name": "python",
   "nbconvert_exporter": "python",
   "pygments_lexer": "ipython3",
   "version": "3.10.12"
  }
 },
 "nbformat": 4,
 "nbformat_minor": 2
}
