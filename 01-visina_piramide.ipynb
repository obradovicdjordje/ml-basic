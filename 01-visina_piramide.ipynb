{
 "cells": [
  {
   "cell_type": "markdown",
   "metadata": {},
   "source": [
    "Kako je Tales izracunao visinu piramide?\n",
    "\n",
    "Ako naucimo vezu izmedju duzine senke i visine objekta možemo merenjem dužine senke da uvek utvrdimo visinu objekta.\n",
    "\n",
    "``` python\n",
    "||\n",
    "||\n",
    "||                        \n",
    "||\n",
    "||                         \n",
    "||                         *\n",
    "||                         *\n",
    "||                         *\n",
    "||                         *\n",
    "||....................     *..........\n",
    "```\n",
    "\n",
    "x - izmerena duzina senke\n",
    "y - visina objekta"
   ]
  },
  {
   "cell_type": "code",
   "execution_count": 1,
   "metadata": {},
   "outputs": [],
   "source": [
    "xs = [100,  50, 34, 16, 58,   52]\n",
    "ys = [199, 100, 68, 32, 116, 105]"
   ]
  },
  {
   "cell_type": "markdown",
   "metadata": {},
   "source": [
    "Ako imamo iskustvo xs i ys da li mozemo da odgovorimo koliko je visina objekta cija senka je dugacka 51?\n",
    "\n",
    "Da li postoji veza izmedju duzine senke i visine?\n",
    "\n",
    "Kako da naucimo masinu da resava ovakav sadatak?"
   ]
  },
  {
   "cell_type": "code",
   "execution_count": null,
   "metadata": {},
   "outputs": [],
   "source": []
  },
  {
   "cell_type": "code",
   "execution_count": null,
   "metadata": {},
   "outputs": [],
   "source": []
  },
  {
   "cell_type": "code",
   "execution_count": null,
   "metadata": {},
   "outputs": [],
   "source": [
    "\n"
   ]
  },
  {
   "cell_type": "code",
   "execution_count": null,
   "metadata": {},
   "outputs": [],
   "source": []
  }
 ],
 "metadata": {
  "kernelspec": {
   "display_name": "Python 3",
   "language": "python",
   "name": "python3"
  },
  "language_info": {
   "codemirror_mode": {
    "name": "ipython",
    "version": 3
   },
   "file_extension": ".py",
   "mimetype": "text/x-python",
   "name": "python",
   "nbconvert_exporter": "python",
   "pygments_lexer": "ipython3",
   "version": "3.10.12"
  }
 },
 "nbformat": 4,
 "nbformat_minor": 2
}
