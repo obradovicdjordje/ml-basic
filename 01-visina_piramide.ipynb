{
 "cells": [
  {
   "cell_type": "markdown",
   "metadata": {},
   "source": [
    "Kako je Tales izracunao visinu piramide?\n",
    "\n",
    "Ako naucimo vezu izmedju duzine senke i visine objekta možemo merenjem dužine senke da uvek utvrdimo visinu objekta.\n",
    "\n",
    "\n",
    "\n",
    "``` python\n",
    "||\n",
    "||\n",
    "||                        \n",
    "||\n",
    "||                         \n",
    "||                         *\n",
    "||                         *\n",
    "||                         *\n",
    "||                         *\n",
    "||....................     *..........\n",
    "```\n",
    "\n",
    "x - izmerena duzina senke\n",
    "y - visina objekta"
   ]
  },
  {
   "cell_type": "code",
   "execution_count": 2,
   "metadata": {},
   "outputs": [],
   "source": [
    "xs = [100,  50, 34, 16, 58,   52]\n",
    "ys = [199, 100, 68, 32, 116, 105]\n"
   ]
  },
  {
   "cell_type": "markdown",
   "metadata": {},
   "source": [
    "Ako imamo iskustvo xs i ys da li mozemo da odgovorimo koliko je visina objekta cija senka je dugacka 51?\n",
    "\n",
    "Da li postoji veza izmedju duzine senke i visine?\n",
    "\n",
    "Kako da naucimo masinu da resava ovakav sadatak?"
   ]
  },
  {
   "cell_type": "code",
   "execution_count": 3,
   "metadata": {},
   "outputs": [
    {
     "name": "stdout",
     "output_type": "stream",
     "text": [
      "[[100, 199], [50, 100], [34, 68], [16, 32], [58, 116], [52, 105]]\n"
     ]
    }
   ],
   "source": [
    "primeri = []\n",
    "n = len(xs)\n",
    "for i in range(n): # [0, 1, 2, ..., n-1]\n",
    "    primeri.append([xs[i], ys[i]])\n",
    "\n",
    "print(primeri)"
   ]
  },
  {
   "cell_type": "code",
   "execution_count": 4,
   "metadata": {},
   "outputs": [
    {
     "name": "stdout",
     "output_type": "stream",
     "text": [
      "[[16, 32], [34, 68], [50, 100], [52, 105], [58, 116], [100, 199]]\n"
     ]
    }
   ],
   "source": [
    "sprimeri = sorted(primeri, key=lambda x: x[0])\n",
    "print(sprimeri)"
   ]
  },
  {
   "cell_type": "code",
   "execution_count": 8,
   "metadata": {},
   "outputs": [
    {
     "name": "stdout",
     "output_type": "stream",
     "text": [
      "16 32 58 116\n",
      "Visina objekta cija senka je 51 iznosi  102.0\n"
     ]
    }
   ],
   "source": [
    "x = 51\n",
    "for i in range(n-1):\n",
    "    x0 = sprimeri[i][0]\n",
    "    x1 = sprimeri[i+1][0]\n",
    "    if x>=x0 and x<x1:\n",
    "        y0 = primeri[i][1]\n",
    "        y1 = primeri[i+1][1]\n",
    "        dx = x1-x0\n",
    "        dy = y1-y0\n",
    "        print(x0, y0, x1, y1)\n",
    "\n",
    "        # y1 = a*x1+b\n",
    "        # y0 = a*x0+b\n",
    "\n",
    "        a = dy/dx\n",
    "        b = y1 - a*x1\n",
    "        y = a*x + b\n",
    "        print(\"Visina objekta cija senka je 51 iznosi \", y)\n",
    "        break\n",
    "\n"
   ]
  },
  {
   "cell_type": "code",
   "execution_count": null,
   "metadata": {},
   "outputs": [],
   "source": []
  }
 ],
 "metadata": {
  "kernelspec": {
   "display_name": "Python 3",
   "language": "python",
   "name": "python3"
  },
  "language_info": {
   "codemirror_mode": {
    "name": "ipython",
    "version": 3
   },
   "file_extension": ".py",
   "mimetype": "text/x-python",
   "name": "python",
   "nbconvert_exporter": "python",
   "pygments_lexer": "ipython3",
   "version": "3.9.6"
  }
 },
 "nbformat": 4,
 "nbformat_minor": 2
}
