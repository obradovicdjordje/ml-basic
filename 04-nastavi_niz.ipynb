{
 "cells": [
  {
   "cell_type": "code",
   "execution_count": 27,
   "metadata": {},
   "outputs": [
    {
     "name": "stdout",
     "output_type": "stream",
     "text": [
      "[2, 5, 8, 11, 15, 19, 23, 28, 33, 39]\n"
     ]
    }
   ],
   "source": [
    "import numpy as np\n",
    "\n",
    "def f(x):\n",
    "    a = 1.1\n",
    "    b = 3\n",
    "    return int(a*x+b)\n",
    "\n",
    "def generator(start):\n",
    "    n = 10\n",
    "    a = start\n",
    "    niz = []\n",
    "    for i in range(n):\n",
    "        niz.append(a)\n",
    "        a = f(a)\n",
    "    return niz\n",
    "\n",
    "niz = generator(2)\n",
    "print(niz)"
   ]
  },
  {
   "cell_type": "code",
   "execution_count": 28,
   "metadata": {},
   "outputs": [
    {
     "name": "stdout",
     "output_type": "stream",
     "text": [
      "[ 2  5  8 11 15 19 23 28 33] [ 5  8 11 15 19 23 28 33 39]\n",
      "a=1.1004310481313397 b=2.2534163180475555\n",
      "Ako je x=39 y=45 tacna vrednost=45\n"
     ]
    }
   ],
   "source": [
    "xs = np.array(niz[:-1])\n",
    "ys = np.array(niz[1:])\n",
    "print(xs, ys)\n",
    "\n",
    "def drugi_metod(xs, ys, x):\n",
    "    n = len(xs)\n",
    "\n",
    "    aa = []\n",
    "    bb = []\n",
    "\n",
    "    for it in range(50):\n",
    "        i = np.random.randint(0, n)\n",
    "        j = np.random.randint(0, n)\n",
    "        if i != j:\n",
    "            xi = xs[i]\n",
    "            yi = ys[i]\n",
    "            xj = xs[j]\n",
    "            yj = ys[j]\n",
    "            dx = xj-xi\n",
    "            dy = yj-yi\n",
    "            a = dy/dx\n",
    "            b = yi-a*xi\n",
    "            aa.append(a)\n",
    "            bb.append(b)\n",
    "    aa = np.array(aa)\n",
    "    bb = np.array(bb)\n",
    "\n",
    "    a = aa.mean()\n",
    "    b = bb.mean()\n",
    "    print(f'a={a} b={b}')\n",
    "    return int(a*x+b)\n",
    "\n",
    "x =niz[-1]\n",
    "y = drugi_metod(xs, ys, x)\n",
    "yt = f(x)\n",
    "print(f'Ako je x={x} y={y} tacna vrednost={yt}')\n",
    "\n"
   ]
  },
  {
   "cell_type": "code",
   "execution_count": null,
   "metadata": {},
   "outputs": [],
   "source": []
  },
  {
   "cell_type": "code",
   "execution_count": null,
   "metadata": {},
   "outputs": [],
   "source": []
  }
 ],
 "metadata": {
  "kernelspec": {
   "display_name": "Python 3",
   "language": "python",
   "name": "python3"
  },
  "language_info": {
   "codemirror_mode": {
    "name": "ipython",
    "version": 3
   },
   "file_extension": ".py",
   "mimetype": "text/x-python",
   "name": "python",
   "nbconvert_exporter": "python",
   "pygments_lexer": "ipython3",
   "version": "3.9.6"
  }
 },
 "nbformat": 4,
 "nbformat_minor": 2
}
