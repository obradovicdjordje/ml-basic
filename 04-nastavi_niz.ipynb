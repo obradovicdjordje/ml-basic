{
 "cells": [
  {
   "cell_type": "code",
   "execution_count": 4,
   "metadata": {},
   "outputs": [
    {
     "name": "stdout",
     "output_type": "stream",
     "text": [
      "[2, 3, 5, 9, 17, 33, 65, 129, 257, 513]\n"
     ]
    }
   ],
   "source": [
    "import numpy as np\n",
    "\n",
    "def f(x):\n",
    "    a = 2\n",
    "    b = -1\n",
    "    return a*x+b\n",
    "\n",
    "def generator(start):\n",
    "    n = 10\n",
    "    a = start\n",
    "    niz = []\n",
    "    for i in range(n):\n",
    "        niz.append(a)\n",
    "        a = f(a)\n",
    "    return niz\n",
    "\n",
    "\n",
    "niz = generator(2)\n",
    "print(niz)"
   ]
  },
  {
   "cell_type": "code",
   "execution_count": null,
   "metadata": {},
   "outputs": [],
   "source": [
    "x = np.array(niz[:-1])\n",
    "y = np.array(niz[1:])\n",
    "print(x, y)"
   ]
  }
 ],
 "metadata": {
  "kernelspec": {
   "display_name": "Python 3",
   "language": "python",
   "name": "python3"
  },
  "language_info": {
   "codemirror_mode": {
    "name": "ipython",
    "version": 3
   },
   "file_extension": ".py",
   "mimetype": "text/x-python",
   "name": "python",
   "nbconvert_exporter": "python",
   "pygments_lexer": "ipython3",
   "version": "3.9.6"
  }
 },
 "nbformat": 4,
 "nbformat_minor": 2
}
